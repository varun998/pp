{
  "metadata": {
    "kernelspec": {
      "name": "python",
      "display_name": "Python (Pyodide)",
      "language": "python"
    },
    "language_info": {
      "codemirror_mode": {
        "name": "python",
        "version": 3
      },
      "file_extension": ".py",
      "mimetype": "text/x-python",
      "name": "python",
      "nbconvert_exporter": "python",
      "pygments_lexer": "ipython3",
      "version": "3.8"
    }
  },
  "nbformat_minor": 5,
  "nbformat": 4,
  "cells": [
    {
      "id": "d2b23087-93d6-4384-bdc8-e035dfc80762",
      "cell_type": "markdown",
      "source": "## Varun Dhanak 12",
      "metadata": {}
    },
    {
      "id": "3d2c2e78-fc95-4b8c-876d-fb4af2d6d0a9",
      "cell_type": "markdown",
      "source": "#### Importing",
      "metadata": {}
    },
    {
      "id": "2d690258-0c09-4cc2-b125-9945daabafe8",
      "cell_type": "code",
      "source": "import sqlite3",
      "metadata": {
        "trusted": true
      },
      "outputs": [],
      "execution_count": 8
    },
    {
      "id": "466da008-fd2b-4a2e-81c0-dcae5d781a01",
      "cell_type": "markdown",
      "source": "#### Connecting to Database",
      "metadata": {}
    },
    {
      "id": "b3b1a354-937a-4b6c-b7e6-a12e70c28b0f",
      "cell_type": "code",
      "source": "connection = sqlite3.connect ('./genericDatabase.db')\ncursor = connection.cursor ()",
      "metadata": {
        "trusted": true
      },
      "outputs": [],
      "execution_count": 9
    },
    {
      "id": "b37edd27-1bc8-4a7c-b32d-398dcda69a95",
      "cell_type": "markdown",
      "source": "#### Create Table",
      "metadata": {}
    },
    {
      "id": "53f5543d-1e8d-40b4-a19a-318e6917a22e",
      "cell_type": "code",
      "source": "cursor.execute(\"DROP TABLE IF EXISTS students\") # Delete table if it exists\nconnection.commit()\ncursor.execute('''\n CREATE TABLE IF NOT EXISTS students (\n id INTEGER PRIMARY KEY AUTOINCREMENT,\n name TEXT NOT NULL,\n age INTEGER NOT NULL\n )\n''')\nconnection.commit()",
      "metadata": {
        "trusted": true
      },
      "outputs": [],
      "execution_count": 10
    },
    {
      "id": "7e683099-414c-4696-b83b-307a383dbcd2",
      "cell_type": "markdown",
      "source": " ### CRUD Operations",
      "metadata": {}
    },
    {
      "id": "27c253cb-b8b0-40e4-b999-e7403efd54fa",
      "cell_type": "markdown",
      "source": "#### Create (Insertion)",
      "metadata": {}
    },
    {
      "id": "77e125e6-aa8f-49df-bfa3-00034486c652",
      "cell_type": "code",
      "source": "def create_student(name, age):\n    cursor.execute('''\n        INSERT INTO students (name, age) \n        VALUES (?, ?)\n    ''', (name, age))\n    connection.commit()\n    print(\"Record added successfully!\")\n\ncreate_student(\"Griffith\", 20)\ncreate_student(\"Guts\", 22)",
      "metadata": {
        "trusted": true
      },
      "outputs": [
        {
          "name": "stdout",
          "output_type": "stream",
          "text": "Record added successfully!\nRecord added successfully!\n"
        }
      ],
      "execution_count": 11
    },
    {
      "id": "f638ea61-e8a8-475e-8985-083619f635c0",
      "cell_type": "markdown",
      "source": "#### Read (Retrieve)",
      "metadata": {}
    },
    {
      "id": "5c3fa44c-3a4d-4b09-8e4a-3630f4a033c5",
      "cell_type": "code",
      "source": "def read_students():\n    cursor.execute('SELECT * FROM students')\n    rows = cursor.fetchall()\n    print(\"Student Records:\")\n    for row in rows:\n        print(row)\n\nread_students()",
      "metadata": {
        "trusted": true
      },
      "outputs": [
        {
          "name": "stdout",
          "output_type": "stream",
          "text": "Student Records:\n(1, 'Griffith', 20)\n(2, 'Guts', 22)\n"
        }
      ],
      "execution_count": 12
    },
    {
      "id": "70ac1c5d-45db-4839-9062-458a56783703",
      "cell_type": "markdown",
      "source": "#### Update",
      "metadata": {}
    },
    {
      "id": "2be52f44-d140-4e5a-89da-858619decd21",
      "cell_type": "code",
      "source": "def update_student_age(student_id, new_age):\n    cursor.execute('''\n        UPDATE students \n        SET age = ? \n        WHERE id = ?\n    ''', (new_age, student_id))\n    connection.commit()\n    print(\"Student age updated successfully!\")",
      "metadata": {
        "trusted": true
      },
      "outputs": [],
      "execution_count": 13
    },
    {
      "id": "faf76c62-4a91-4d3f-b699-748a53af8efc",
      "cell_type": "markdown",
      "source": "#### Delete",
      "metadata": {}
    },
    {
      "id": "5488e52e-91c0-4008-9003-50d0d60f14ca",
      "cell_type": "code",
      "source": "def delete_student(student_id):\n    cursor.execute('''\n        DELETE FROM students \n        WHERE id = ?\n    ''', (student_id,))\n    connection.commit()\n    print(\"Student deleted successfully!\")",
      "metadata": {
        "trusted": true
      },
      "outputs": [],
      "execution_count": 14
    },
    {
      "id": "b46df4db-477d-4704-8cd2-839de6e5a77a",
      "cell_type": "markdown",
      "source": "#### Closing the database connection",
      "metadata": {}
    },
    {
      "id": "2618f6a4-dda9-45c5-a246-7140de68bc93",
      "cell_type": "code",
      "source": "connection.close ()",
      "metadata": {
        "trusted": true
      },
      "outputs": [],
      "execution_count": 15
    },
    {
      "id": "2234c85f-399e-4a66-9d34-706d96aefc1e",
      "cell_type": "code",
      "source": "",
      "metadata": {
        "trusted": true
      },
      "outputs": [],
      "execution_count": null
    }
  ]
}