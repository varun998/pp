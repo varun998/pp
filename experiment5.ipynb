{
  "metadata": {
    "kernelspec": {
      "name": "python",
      "display_name": "Python (Pyodide)",
      "language": "python"
    },
    "language_info": {
      "codemirror_mode": {
        "name": "python",
        "version": 3
      },
      "file_extension": ".py",
      "mimetype": "text/x-python",
      "name": "python",
      "nbconvert_exporter": "python",
      "pygments_lexer": "ipython3",
      "version": "3.8"
    }
  },
  "nbformat_minor": 5,
  "nbformat": 4,
  "cells": [
    {
      "id": "fd841043-3f57-49c9-bb88-518d7e470848",
      "cell_type": "markdown",
      "source": "#### Varun Dhanak 12",
      "metadata": {}
    },
    {
      "id": "e89c3ea1-0873-429d-b98e-b8b0e4665d8a",
      "cell_type": "code",
      "source": "class StackDepth:\n    def maximumDepth(self, stringInput: str) -> int:\n        # Initialize variables for the current depth and maximum depth\n        current_depth = 0\n        max_depth = 0\n        \n        # Traverse the string\n        for char in stringInput:\n            if char == '(':  # Increment depth when encountering an opening parenthesis\n                current_depth += 1\n                max_depth = max(max_depth, current_depth)  # Update max_depth\n            elif char == ')':  # Decrement depth when encountering a closing parenthesis\n                current_depth -= 1\n        \n        return max_depth\n\n# Example usage\nstack_depth = StackDepth()\n\n# Test cases\nprint(stack_depth.maximumDepth(\"(1+(2*3)+((8)/4))+1\"))  # Output: 3\nprint(stack_depth.maximumDepth(\"(1)+((2))+(((3)))\"))  # Output: 3\nprint(stack_depth.maximumDepth(\"()(())((()()))\"))  # Output: 3\n",
      "metadata": {
        "trusted": true
      },
      "outputs": [
        {
          "name": "stdout",
          "output_type": "stream",
          "text": "3\n3\n3\n"
        }
      ],
      "execution_count": 6
    }
  ]
}