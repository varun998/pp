{
  "metadata": {
    "kernelspec": {
      "name": "python",
      "display_name": "Python (Pyodide)",
      "language": "python"
    },
    "language_info": {
      "codemirror_mode": {
        "name": "python",
        "version": 3
      },
      "file_extension": ".py",
      "mimetype": "text/x-python",
      "name": "python",
      "nbconvert_exporter": "python",
      "pygments_lexer": "ipython3",
      "version": "3.8"
    }
  },
  "nbformat_minor": 5,
  "nbformat": 4,
  "cells": [
    {
      "id": "1bd34887-3324-4663-9714-e5893f8bb4cb",
      "cell_type": "markdown",
      "source": "# *FRAUDULENT ID DETECTION",
      "metadata": {}
    },
    {
      "id": "32b768d1-075a-4c3a-9889-c568810db592",
      "cell_type": "markdown",
      "source": "To identify PAN cards that are fake but closely resemble real ones, you need a binary classification model that can distinguish real vs. fake PAN cards, even if the fake ones look very similar. Here's the best approach:\n\n🔹 Step-by-Step Plan for Maximum Accuracy\n1️⃣ Collect a diverse dataset (real PAN cards + fake ones that look real).\n2️⃣ Apply strong data augmentation (for variety).\n3️⃣ Use a CNN-based model (ResNet50 or EfficientNet for accuracy).\n4️⃣ Train in phases (small dataset first, then fine-tune with more data).\n5️⃣ Use feature extraction to detect subtle differences (hologram, font, alignment, etc.).\n6️⃣ Implement confidence scores (so the model can say: \"I'm 80% sure this is real\").",
      "metadata": {}
    },
    {
      "id": "cc3ce071-53a7-488e-af61-f234af3e1a5b",
      "cell_type": "markdown",
      "source": "### 🗂 Folder Structure",
      "metadata": {}
    },
    {
      "id": "3bc09f5d-3ef9-4c20-b38f-4f37c82bc84a",
      "cell_type": "code",
      "source": "pan_card_detector/\n│── dataset/\n│   ├── real_pan/ (Real PAN card images)\n│   ├── fake_pan/ (Fake PAN card images)\n│   ├── augmented/ (Generated images)\n│── models/\n│   ├── small_model.pth (Trained on small dataset)\n│   ├── final_model.pth (Trained on full dataset)\n│── src/\n│   ├── train.py (Training script)\n│   ├── predict.py (For testing a new image)\n│── dataset.yaml (Dataset configuration)\n│── requirements.txt (Dependencies)\n│── README.md (Project details)",
      "metadata": {
        "trusted": true
      },
      "outputs": [],
      "execution_count": null
    },
    {
      "id": "7992eb89-8e07-41bb-9db5-a82a5bbc78ab",
      "cell_type": "markdown",
      "source": "### 📄dataset.yaml (Dataset Configuration for YOLO)",
      "metadata": {}
    },
    {
      "id": "f3a40fb0-016d-45d4-90fe-768008351321",
      "cell_type": "code",
      "source": "path: dataset/\ntrain: images/\nval: images/\nnames: [\"real_pan\", \"fake_pan\"]",
      "metadata": {
        "trusted": true
      },
      "outputs": [],
      "execution_count": null
    },
    {
      "id": "cce8c0a7-9732-4ce7-a56d-6ff60e1560ca",
      "cell_type": "markdown",
      "source": "### 📄 requirements.txt(Install Dependencies)",
      "metadata": {}
    },
    {
      "id": "1c1038b3-0156-4e50-aed2-63bcbb0be92a",
      "cell_type": "code",
      "source": "torch\ntorchvision\nopencv-python\nnumpy\nmatplotlib\nPillow\nscikit-learn\ntqdm\nalbumentations",
      "metadata": {
        "trusted": true
      },
      "outputs": [],
      "execution_count": null
    },
    {
      "id": "8bd92108-e2ea-4996-8bb9-4b6b50e2c4d5",
      "cell_type": "markdown",
      "source": "### 📄 README.md (Project Details",
      "metadata": {}
    },
    {
      "id": "16ed11a2-9592-4921-b823-2c44f2b5cf70",
      "cell_type": "code",
      "source": "# PAN Card Detection and Fake vs Real Classification\n\n## 📌 How It Works:\n1️⃣ Detects PAN cards in an image.  \n2️⃣ Classifies them as *real* or *fake*.  \n\n## 📌 Dataset:\n- *Real PAN cards:* 500+ images  \n- *Fake PAN cards:* 500+ images  \n- *Augmented Data:* 5000+ images  \n\n## 📌 Training:\n- Uses *ResNet50 CNN* for best accuracy.  \n- Fine-tuned with a *larger dataset* for higher precision.",
      "metadata": {
        "trusted": true
      },
      "outputs": [],
      "execution_count": null
    },
    {
      "id": "10332861-908b-4cc4-8f4b-2fd07fcd6453",
      "cell_type": "markdown",
      "source": "### 🚀 Training Script (train.py)\nThis script trains the model on real vs. fake PAN cards.",
      "metadata": {}
    },
    {
      "id": "b970b9d3-6b48-4aa9-aace-07aac77a79a5",
      "cell_type": "code",
      "source": "import torch\nimport torch.nn as nn\nimport torch.optim as optim\nfrom torchvision import models, transforms, datasets\nfrom torch.utils.data import DataLoader\n\n# 1️⃣ Define Data Augmentation\ntransform = transforms.Compose([\n    transforms.Resize((224, 224)),\n    transforms.RandomRotation(10),\n    transforms.RandomHorizontalFlip(),\n    transforms.ToTensor(),\n    transforms.Normalize(mean=[0.5, 0.5, 0.5], std=[0.5, 0.5, 0.5])\n])\n\n# 2️⃣ Load Dataset\ndataset_path = \"dataset/\"\ntrain_dataset = datasets.ImageFolder(root=f\"{dataset_path}/train\", transform=transform)\nval_dataset = datasets.ImageFolder(root=f\"{dataset_path}/val\", transform=transform)\n\ntrain_loader = DataLoader(train_dataset, batch_size=16, shuffle=True)\nval_loader = DataLoader(val_dataset, batch_size=16, shuffle=False)\n\n# 3️⃣ Load Pretrained Model (ResNet50)\ndevice = torch.device(\"cuda\" if torch.cuda.is_available() else \"cpu\")\nmodel = models.resnet50(pretrained=True)\nmodel.fc = nn.Linear(2048, 2)  # 2 classes: real or fake\nmodel = model.to(device)\n\n# 4️⃣ Define Loss & Optimizer\ncriterion = nn.CrossEntropyLoss()\noptimizer = optim.Adam(model.parameters(), lr=0.0001)\n\n# 5️⃣ Train Model\nnum_epochs = 10\nfor epoch in range(num_epochs):\n    model.train()\n    running_loss = 0.0\n    for images, labels in train_loader:\n        images, labels = images.to(device), labels.to(device)\n        \n        optimizer.zero_grad()\n        outputs = model(images)\n        loss = criterion(outputs, labels)\n        loss.backward()\n        optimizer.step()\n        \n        running_loss += loss.item()\n    \n    print(f\"Epoch [{epoch+1}/{num_epochs}], Loss: {running_loss/len(train_loader):.4f}\")\n\n# 6️⃣ Save Model\ntorch.save(model.state_dict(), \"models/final_model.pth\")\nprint(\"✅ Model Training Complete & Saved!\")\n",
      "metadata": {
        "trusted": true
      },
      "outputs": [],
      "execution_count": null
    },
    {
      "id": "34aa01f8-ed68-4ad2-b97b-9bf2c2206a6b",
      "cell_type": "markdown",
      "source": "### 🎯 Testing Script (predict.py)",
      "metadata": {}
    },
    {
      "id": "5faaf3a5-2b4a-4648-b25b-fff29737d4e1",
      "cell_type": "code",
      "source": "import torch\nimport torchvision.transforms as transforms\nfrom PIL import Image\nfrom torchvision import models\n\n# Load trained model\ndevice = torch.device(\"cuda\" if torch.cuda.is_available() else \"cpu\")\nmodel = models.resnet50(pretrained=False)\nmodel.fc = torch.nn.Linear(2048, 2)  # 2 classes\nmodel.load_state_dict(torch.load(\"models/final_model.pth\", map_location=device))\nmodel = model.to(device)\nmodel.eval()\n\n# Define transformation\ntransform = transforms.Compose([\n    transforms.Resize((224, 224)),\n    transforms.ToTensor(),\n    transforms.Normalize(mean=[0.5, 0.5, 0.5], std=[0.5, 0.5, 0.5])\n])\n\n# Predict Function\ndef predict(image_path):\n    image = Image.open(image_path).convert(\"RGB\")\n    image = transform(image).unsqueeze(0).to(device)\n    \n    output = model(image)\n    _, predicted = torch.max(output, 1)\n    \n    classes = [\"Real PAN Card\", \"Fake PAN Card\"]\n    return classes[predicted.item()]\n\n# Test with an image\nimage_path = \"test_pan_card.jpg\"\nresult = predict(image_path)\nprint(f\"Prediction: {result}\")\n",
      "metadata": {
        "trusted": true
      },
      "outputs": [],
      "execution_count": null
    },
    {
      "id": "d6f3340a-6a01-4101-afe8-bca4be11f67e",
      "cell_type": "markdown",
      "source": "🔹 Key Features of This Approach\n✅ Detects real vs. fake PAN cards with high accuracy.\n✅ Uses ResNet50 CNN for feature extraction (font, spacing, logo).\n✅ Fine-tune later when you get more data.\n✅ Works with small datasets and improves over time.",
      "metadata": {}
    },
    {
      "id": "36f74bf9-f992-49c6-bade-415c5f9149f8",
      "cell_type": "markdown",
      "source": "📌 Next Steps\n1️⃣ Create dataset (real + fake images).\n2️⃣ Run train.py to train the model.\n3️⃣ Use predict.py to test any PAN card.",
      "metadata": {}
    }
  ]
}