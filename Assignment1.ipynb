{
  "metadata": {
    "kernelspec": {
      "name": "python",
      "display_name": "Python (Pyodide)",
      "language": "python"
    },
    "language_info": {
      "codemirror_mode": {
        "name": "python",
        "version": 3
      },
      "file_extension": ".py",
      "mimetype": "text/x-python",
      "name": "python",
      "nbconvert_exporter": "python",
      "pygments_lexer": "ipython3",
      "version": "3.8"
    }
  },
  "nbformat_minor": 5,
  "nbformat": 4,
  "cells": [
    {
      "id": "6a96b4a2-6afd-422b-af0f-c559530797e2",
      "cell_type": "markdown",
      "source": "#### Varun Dhanak 12",
      "metadata": {}
    },
    {
      "id": "e7040c83-97a6-4599-a20d-2b198c759c54",
      "cell_type": "code",
      "source": "class Product:\n    def __init__(self, name, price, stock_quantity):\n        self.name = name\n        self.price = price\n        self.stock_quantity = stock_quantity\n\n    def update_stock(self, quantity):\n        self.stock_quantity += quantity\n\n    def __str__(self):\n        return f\"Product Name: {self.name}\\nPrice: ₹{self.price}\\nStock: {self.stock_quantity}\"\n\n\nclass Store:\n    def __init__(self):\n        self.products = {}\n\n    def add_product(self, name, price, stock_quantity):\n        if name in self.products:\n            print(f\"Product '{name}' already exists.\")\n        else:\n            new_product = Product(name, price, stock_quantity)\n            self.products[name] = new_product\n            print(f\"Product '{name}' added successfully.\")\n\n    def update_product_stock(self, name, quantity):\n        if name in self.products:\n            self.products[name].update_stock(quantity)\n            print(f\"Stock for '{name}' updated by {quantity}.\")\n        else:\n            print(f\"Product '{name}' not found.\")\n\n    def view_product_details(self, name):\n        if name in self.products:\n            print(self.products[name])\n        else:\n            print(f\"Product '{name}' not found.\")\n\n# Instead of while loop, we handle each function call step by step in Jupyter\ndef store_management_system():\n    store = Store()\n    \n    # Example of interaction step by step.\n    print(\"\\nStore Management System\")\n    print(\"1. Add Product\")\n    print(\"2. Update Stock\")\n    print(\"3. View Product Details\")\n    print(\"4. Exit\")\n    \n    # Simulate a single step to guide the user\n    choice = input(\"Enter your choice (1-4): \")\n    \n    if choice == \"1\":\n        name = input(\"Enter product name: \")\n        price = float(input(\"Enter product price: \"))\n        stock_quantity = int(input(\"Enter stock quantity: \"))\n        store.add_product(name, price, stock_quantity)\n    elif choice == \"2\":\n        name = input(\"Enter product name to update stock: \")\n        quantity = int(input(\"Enter quantity to add/remove (use negative to remove): \"))\n        store.update_product_stock(name, quantity)\n    elif choice == \"3\":\n        name = input(\"Enter product name to view details: \")\n        store.view_product_details(name)\n    elif choice == \"4\":\n        print(\"Exiting the program.\")\n    else:\n        print(\"Invalid choice. Please try again.\")\n\n# Call the store_management_system() function whenever you're ready to take actions\nstore_management_system()",
      "metadata": {
        "trusted": true
      },
      "outputs": [],
      "execution_count": null
    },
    {
      "id": "bda0cbc8-0c96-4408-8d1a-32f40b16004e",
      "cell_type": "code",
      "source": "Store Management System\n1. Add Product\n2. Update Stock\n3. View Product Details\n4. Exit\nEnter your choice: 1\nEnter product name: XBOX\nEnter product price: 30000\nEnter stock quantity: 10\nProduct 'XBOX' added successfully.",
      "metadata": {
        "trusted": true
      },
      "outputs": [],
      "execution_count": null
    }
  ]
}