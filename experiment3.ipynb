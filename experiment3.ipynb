{
  "metadata": {
    "kernelspec": {
      "name": "python",
      "display_name": "Python (Pyodide)",
      "language": "python"
    },
    "language_info": {
      "codemirror_mode": {
        "name": "python",
        "version": 3
      },
      "file_extension": ".py",
      "mimetype": "text/x-python",
      "name": "python",
      "nbconvert_exporter": "python",
      "pygments_lexer": "ipython3",
      "version": "3.8"
    }
  },
  "nbformat_minor": 5,
  "nbformat": 4,
  "cells": [
    {
      "id": "cdce28bb-123a-4064-81aa-5ca50354f0c4",
      "cell_type": "markdown",
      "source": "#### Varun Dhanak 12",
      "metadata": {}
    },
    {
      "id": "f8d22380-0fe1-40f9-9236-a71f8f1dc2b3",
      "cell_type": "code",
      "source": "if __name__ == '__main__':\n    with open('./file.txt', 'r') as file:\n        lines = file.readlines()\n        numberOfLines = len(lines)\n        numberOfWords = sum(len(line.split()) for line in lines)\n        \n        # Calculate number of characters\n        numberOfCharacters = sum(len(line) for line in lines)\n        \n    print(f\"Lines: {numberOfLines}\")\n    print(f\"Words: {numberOfWords}\")\n    print(f\"Characters: {numberOfCharacters}\")\n",
      "metadata": {
        "trusted": true
      },
      "outputs": [
        {
          "name": "stdout",
          "output_type": "stream",
          "text": "Lines: 4\nWords: 21\nCharacters: 124\n"
        }
      ],
      "execution_count": 1
    }
  ]
}