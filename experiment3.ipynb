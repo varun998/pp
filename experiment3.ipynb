{
  "metadata": {
    "kernelspec": {
      "name": "python",
      "display_name": "Python (Pyodide)",
      "language": "python"
    },
    "language_info": {
      "codemirror_mode": {
        "name": "python",
        "version": 3
      },
      "file_extension": ".py",
      "mimetype": "text/x-python",
      "name": "python",
      "nbconvert_exporter": "python",
      "pygments_lexer": "ipython3",
      "version": "3.8"
    }
  },
  "nbformat_minor": 5,
  "nbformat": 4,
  "cells": [
    {
      "id": "2316721d-c2e4-47d1-954d-a69f1f6b19a9",
      "cell_type": "markdown",
      "source": "### Varun Dhanak 12 ",
      "metadata": {}
    },
    {
      "id": "c53f0cc5-b8f5-484a-b458-125b5f405ea7",
      "cell_type": "code",
      "source": "if __name__ == '__main__':\n    with open('./file.txt', 'r') as file:\n        lines = file.readlines()\n        numberOfLines = len(lines)\n        numberOfWords = sum(len(line.split()) for line in lines)\n       \n        # Count the number of characters\n        numberOfCharacters = sum(len(line) for line in lines)\n       \n    print(f\"No. of Lines: {numberOfLines}\")\n    print(f\"No. of Words: {numberOfWords}\")\n    print(f\"No. of Characters: {numberOfCharacters}\")",
      "metadata": {
        "trusted": true
      },
      "outputs": [
        {
          "name": "stdout",
          "output_type": "stream",
          "text": "No. of Lines: 2\nNo. of Words: 7\nNo. of Characters: 36\n"
        }
      ],
      "execution_count": 1
    },
    {
      "id": "1db86546-c2dd-4d77-b065-28382275c54b",
      "cell_type": "code",
      "source": "",
      "metadata": {
        "trusted": true
      },
      "outputs": [],
      "execution_count": null
    },
    {
      "id": "c19aa872-a150-4b5b-bf8e-c040d3d08779",
      "cell_type": "code",
      "source": "",
      "metadata": {
        "trusted": true
      },
      "outputs": [],
      "execution_count": null
    },
    {
      "id": "74e1345b-63e2-4cec-a97a-6998c6607039",
      "cell_type": "code",
      "source": "",
      "metadata": {
        "trusted": true
      },
      "outputs": [],
      "execution_count": null
    }
  ]
}