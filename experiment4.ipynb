{
  "metadata": {
    "kernelspec": {
      "name": "python",
      "display_name": "Python (Pyodide)",
      "language": "python"
    },
    "language_info": {
      "codemirror_mode": {
        "name": "python",
        "version": 3
      },
      "file_extension": ".py",
      "mimetype": "text/x-python",
      "name": "python",
      "nbconvert_exporter": "python",
      "pygments_lexer": "ipython3",
      "version": "3.8"
    }
  },
  "nbformat_minor": 5,
  "nbformat": 4,
  "cells": [
    {
      "id": "67f923ea-783d-49d8-83f2-32b9a14b5084",
      "cell_type": "markdown",
      "source": "#### Varun Dhanak 12",
      "metadata": {}
    },
    {
      "id": "82d4a116-4124-4aab-8e1c-f56b6397a0c7",
      "cell_type": "code",
      "source": "from pathlib import Path\n\n# Get all files in the current directory\nfiles = [f for f in Path('.').iterdir() if f.is_file()]\n\nprint(\"Files in the current directory:\")\nfor file in files:\n    print(file.name)\n",
      "metadata": {
        "trusted": true
      },
      "outputs": [
        {
          "name": "stdout",
          "output_type": "stream",
          "text": "Files in the current directory:\nUntitled.ipynb\nUntitled1.ipynb\nIntro.ipynb\nLorenz.ipynb\nsqlite.ipynb\n"
        }
      ],
      "execution_count": 1
    }
  ]
}